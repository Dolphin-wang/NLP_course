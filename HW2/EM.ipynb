{
 "cells": [
  {
   "cell_type": "code",
   "execution_count": 329,
   "metadata": {},
   "outputs": [],
   "source": [
    "\n",
    "import numpy as np\n",
    "s1 = 0.2\n",
    "s2 = 0.3\n",
    "s3 = 1 - s1 - s2\n",
    "q = 0.2\n",
    "r = 0.8\n",
    "t = 0.6\n",
    "q_begin = 0.1\n",
    "r_begin = 0.9\n",
    "t_begin = 0.5\n",
    "q_eva = q_begin\n",
    "r_eva = r_begin\n",
    "t_eva = t_begin\n"
   ]
  },
  {
   "cell_type": "code",
   "execution_count": 330,
   "metadata": {},
   "outputs": [],
   "source": [
    "#生成硬币序列\n",
    "np.random.seed(1)\n",
    "\n",
    "coin = np.random.rand(1000,100)\n",
    "coin_sum = []\n",
    "coin_class = np.random.rand(1000)\n",
    "for i in range(coin.shape[0]):\n",
    "    if coin_class[i] < s1: \n",
    "        #投掷硬币为s1\n",
    "        coin[i][coin[i]>(1-q)] = 1\n",
    "        coin[i][coin[i]<(1-q)] = 0\n",
    "    elif coin_class[i] < s1 + s2:\n",
    "        #投掷硬币为s2\n",
    "        coin[i][coin[i]>(1-r)] = 1\n",
    "        coin[i][coin[i]<(1-r)] = 0\n",
    "    else:\n",
    "        #投掷硬币为s2\n",
    "        coin[i][coin[i]>(1-t)] = 1\n",
    "        coin[i][coin[i]<(1-t)] = 0\n",
    "    coin_sum.append(coin[i].sum())\n",
    "coin_class[coin_class < s1] = 1 #a\n",
    "coin_class[(coin_class > s1) & (coin_class < (s1 + s2))] = 2 #b\n",
    "coin_class[(coin_class > (s1 + s2)) & (coin_class < 1)] = 3 #c\n",
    "# print(coin_class)\n",
    "# print(coin_sum)\n",
    "\n"
   ]
  },
  {
   "cell_type": "code",
   "execution_count": 331,
   "metadata": {},
   "outputs": [],
   "source": [
    "# 根据硬币分布计算概率\n",
    "def cal_probality(coin_seq, p):\n",
    "    num_p = coin_seq.sum()\n",
    "    num = coin_seq.size\n",
    "    probality = (p**num_p) * (1-p)**(num-num_p)\n",
    "    return probality\n"
   ]
  },
  {
   "cell_type": "code",
   "execution_count": 332,
   "metadata": {},
   "outputs": [
    {
     "name": "stdout",
     "output_type": "stream",
     "text": [
      "第1轮迭代的概率为，a=0.196431,b=0.807482,c=0.595842\n",
      "第2轮迭代的概率为，a=0.200104,b=0.801917,c=0.597484\n",
      "第3轮迭代的概率为，a=0.200110,b=0.801108,c=0.597000\n",
      "第4轮迭代的概率为，a=0.200109,b=0.800899,c=0.596866\n",
      "第5轮迭代的概率为，a=0.200109,b=0.800843,c=0.596831\n",
      "第6轮迭代的概率为，a=0.200109,b=0.800829,c=0.596822\n",
      "第7轮迭代的概率为，a=0.200109,b=0.800825,c=0.596819\n",
      "第8轮迭代的概率为，a=0.200109,b=0.800824,c=0.596819\n",
      "第9轮迭代的概率为，a=0.200109,b=0.800823,c=0.596818\n",
      "第10轮迭代的概率为，a=0.200109,b=0.800823,c=0.596818\n",
      "真实：q=0.200000,r=0.800000,t=0.600000\n",
      "初始：q=0.100000,r=0.900000,t=0.500000\n",
      "预测：q=0.200109,r=0.800823,t=0.596818\n",
      "真实:s1=0.200000,s2=0.300000,s3=0.500000\n",
      "预测:s1=0.207012,s2=0.302225,s3=0.490763\n"
     ]
    }
   ],
   "source": [
    "# EM算法\n",
    "epoch = 10\n",
    "for i in range(epoch):\n",
    "    pro_list = []\n",
    "    for j in range(coin.shape[0]):\n",
    "        num_p = coin[j].sum()\n",
    "        a_p = cal_probality(coin[j], q_eva)\n",
    "        b_p = cal_probality(coin[j], r_eva)\n",
    "        c_p = cal_probality(coin[j], t_eva)\n",
    "        a_p_con =  a_p / (a_p+b_p+c_p)\n",
    "        b_p_con =  b_p / (a_p+b_p+c_p)\n",
    "        c_p_con =  c_p / (a_p+b_p+c_p)\n",
    "        pro_list.append([a_p_con, b_p_con, c_p_con, num_p])\n",
    "    a_p_num = 0\n",
    "    a_n_num = 0\n",
    "    b_p_num = 0\n",
    "    b_n_num = 0\n",
    "    c_p_num = 0\n",
    "    c_n_num = 0\n",
    "    for exp in pro_list:\n",
    "        a_p_num += exp[0] * exp[3]\n",
    "        a_n_num += exp[0] * (coin.shape[1]-exp[3])\n",
    "\n",
    "        b_p_num += exp[1] * exp[3]\n",
    "        b_n_num += exp[1] * (coin.shape[1]-exp[3])\n",
    "        \n",
    "        c_p_num += exp[2] * exp[3]\n",
    "        c_n_num += exp[2] * (coin.shape[1]-exp[3])\n",
    "    q_eva = a_p_num / (a_p_num + a_n_num)\n",
    "    r_eva = b_p_num / (b_p_num + b_n_num)\n",
    "    t_eva = c_p_num / (c_p_num + c_n_num)\n",
    "\n",
    "    print(\"第%d轮迭代的概率为，a=%f,b=%f,c=%f\"%(i+1, q_eva, r_eva, t_eva))\n",
    "s1_eva = 0 \n",
    "s2_eva = 0\n",
    "s3_eva = 0\n",
    "for exp in pro_list:\n",
    "    s1_eva += exp[0] \n",
    "    s2_eva += exp[1]\n",
    "    s3_eva += exp[2]\n",
    "print(\"真实：q=%f,r=%f,t=%f\"%(q, r, t))\n",
    "print(\"初始：q=%f,r=%f,t=%f\"%(q_begin, r_begin, t_begin))\n",
    "print(\"预测：q=%f,r=%f,t=%f\"%(q_eva, r_eva, t_eva))\n",
    "print(\"真实:s1=%f,s2=%f,s3=%f\"%(s1, s2, s3))\n",
    "print(\"预测:s1=%f,s2=%f,s3=%f\"%(s1_eva/coin_class.shape[0], s2_eva/coin_class.shape[0], s3_eva/coin_class.shape[0]))\n",
    "    "
   ]
  }
 ],
 "metadata": {
  "interpreter": {
   "hash": "deaf0d50e6556ef56b32c63a9d8a06a4f2fdafbfc1ae0f87508a63ac66605a8e"
  },
  "kernelspec": {
   "display_name": "Python 3.6.15 ('universal')",
   "language": "python",
   "name": "python3"
  },
  "language_info": {
   "codemirror_mode": {
    "name": "ipython",
    "version": 3
   },
   "file_extension": ".py",
   "mimetype": "text/x-python",
   "name": "python",
   "nbconvert_exporter": "python",
   "pygments_lexer": "ipython3",
   "version": "3.6.15"
  },
  "orig_nbformat": 4
 },
 "nbformat": 4,
 "nbformat_minor": 2
}
