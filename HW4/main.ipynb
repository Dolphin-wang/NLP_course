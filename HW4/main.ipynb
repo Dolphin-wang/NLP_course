{
 "cells": [
  {
   "cell_type": "code",
   "execution_count": 87,
   "metadata": {},
   "outputs": [
    {
     "name": "stdout",
     "output_type": "stream",
     "text": [
      "['./dataset\\\\三十三剑客图.txt', './dataset\\\\书剑恩仇录.txt', './dataset\\\\侠客行.txt', './dataset\\\\倚天屠龙记.txt', './dataset\\\\天龙八部.txt', './dataset\\\\射雕英雄传.txt', './dataset\\\\白马啸西风.txt', './dataset\\\\碧血剑.txt', './dataset\\\\神雕侠侣.txt', './dataset\\\\笑傲江湖.txt', './dataset\\\\越女剑.txt', './dataset\\\\连城诀.txt', './dataset\\\\雪山飞狐.txt', './dataset\\\\飞狐外传.txt', './dataset\\\\鸳鸯刀.txt', './dataset\\\\鹿鼎记.txt']\n"
     ]
    }
   ],
   "source": [
    "import jieba\n",
    "import os\n",
    "import re\n",
    "\n",
    "\"\"\"\n",
    "1、读取数据集\n",
    "2、jieba分词并去停用词\n",
    "\"\"\"\n",
    "file_path_list = []\n",
    "root_path = './dataset'\n",
    "r1 = u'[a-zA-Z0-9’!\"#$%&\\'()*+,-./:：;<=>?「」@，。?★、…【】《》？“”‘’！[\\\\]^_`{|}~]+'\n",
    "stopwords = [line.strip() for line in open('stopwords.txt',encoding='UTF-8').readlines()]\n",
    "for file in os.listdir(root_path):\n",
    "    file_path_list.append(os.path.join(root_path, file))\n",
    "print(file_path_list)\n",
    "corpus=[]\n",
    "for i,file_path in enumerate(file_path_list):\n",
    "    with open(file_path,encoding=\"ANSI\") as f:\n",
    "        text = f.read()[40:]\n",
    "        text = re.sub(r1, '', text)\n",
    "        text = text.replace(\"\\n\", '')\n",
    "        text = text.replace(\"\\u3000\", '')\n",
    "        text = text.replace(\" \", '')\n",
    "        jieba_text = jieba.lcut(text)\n",
    "        for word in jieba_text:\n",
    "            if word not in stopwords and len(word) > 1:\n",
    "                corpus.append(word)"
   ]
  },
  {
   "cell_type": "code",
   "execution_count": 107,
   "metadata": {},
   "outputs": [
    {
     "data": {
      "text/plain": [
       "'公方'"
      ]
     },
     "execution_count": 107,
     "metadata": {},
     "output_type": "execute_result"
    }
   ],
   "source": [
    "from gensim.models import word2vec\n",
    "import gensim \n",
    "\n",
    "len(text)\n",
    "text[1000]\n",
    "\n"
   ]
  },
  {
   "cell_type": "code",
   "execution_count": 110,
   "metadata": {},
   "outputs": [],
   "source": [
    "model = gensim.models.Word2Vec(corpus, vector_size=200,  min_count=1, window=5, sg=0)  \n",
    "model.wv.save_word2vec_format(\"./word2Vec\"+ \".bin\", binary=True) \n",
    "wordVec = gensim.models.KeyedVectors.load_word2vec_format(\"word2Vec.bin\", binary=True)"
   ]
  },
  {
   "cell_type": "code",
   "execution_count": 113,
   "metadata": {},
   "outputs": [
    {
     "name": "stdout",
     "output_type": "stream",
     "text": [
      "[('你', 0.5052888989448547), ('他', 0.44940945506095886), ('但', 0.3209048807621002), ('她', 0.31408679485321045), ('乞', 0.31271883845329285), ('演', 0.30898013710975647), ('活', 0.2923160493373871), ('却', 0.28952381014823914), ('己', 0.2803708016872406), ('快', 0.2770616114139557)]\n"
     ]
    }
   ],
   "source": [
    "# print(wordVec.most_similar(['张无忌']))\n",
    "print(wordVec.most_similar(['我']))"
   ]
  },
  {
   "cell_type": "code",
   "execution_count": 112,
   "metadata": {},
   "outputs": [
    {
     "name": "stdout",
     "output_type": "stream",
     "text": [
      "0.5052889\n"
     ]
    }
   ],
   "source": [
    "print(wordVec.similarity('我','你'))\n"
   ]
  }
 ],
 "metadata": {
  "interpreter": {
   "hash": "b09ec625f77bf4fd762565a912b97636504ad6ec901eb2d0f4cf5a7de23e1ee5"
  },
  "kernelspec": {
   "display_name": "Python 3.8.8 ('base')",
   "language": "python",
   "name": "python3"
  },
  "language_info": {
   "codemirror_mode": {
    "name": "ipython",
    "version": 3
   },
   "file_extension": ".py",
   "mimetype": "text/x-python",
   "name": "python",
   "nbconvert_exporter": "python",
   "pygments_lexer": "ipython3",
   "version": "3.8.8"
  },
  "orig_nbformat": 4
 },
 "nbformat": 4,
 "nbformat_minor": 2
}
