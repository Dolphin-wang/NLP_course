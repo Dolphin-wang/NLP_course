{
 "cells": [
  {
   "cell_type": "code",
   "execution_count": 61,
   "metadata": {},
   "outputs": [
    {
     "name": "stdout",
     "output_type": "stream",
     "text": [
      "['./dataset\\\\三十三剑客图.txt', './dataset\\\\书剑恩仇录.txt', './dataset\\\\侠客行.txt', './dataset\\\\倚天屠龙记.txt', './dataset\\\\天龙八部.txt', './dataset\\\\射雕英雄传.txt', './dataset\\\\白马啸西风.txt', './dataset\\\\碧血剑.txt', './dataset\\\\神雕侠侣.txt', './dataset\\\\笑傲江湖.txt', './dataset\\\\越女剑.txt', './dataset\\\\连城诀.txt', './dataset\\\\雪山飞狐.txt', './dataset\\\\飞狐外传.txt', './dataset\\\\鸳鸯刀.txt', './dataset\\\\鹿鼎记.txt']\n"
     ]
    }
   ],
   "source": [
    "import jieba\n",
    "import os\n",
    "import re\n",
    "\n",
    "\"\"\"\n",
    "1、读取数据集\n",
    "2、jieba分词并去停用词\n",
    "\"\"\"\n",
    "file_path_list = []\n",
    "root_path = './dataset'\n",
    "r1 = u'[a-zA-Z0-9’!\"#$%&\\'()*+,-./:：;<=>?「」@，。?★、…【】《》？“”‘’！[\\\\]^_`{|}~]+'\n",
    "stopwords = [line.strip() for line in open('stopwords.txt',encoding='UTF-8').readlines()]\n",
    "stopwords.append('说道')\n",
    "for file in os.listdir(root_path):\n",
    "    file_path_list.append(os.path.join(root_path, file))\n",
    "print(file_path_list)\n",
    "corpus=[[] for _ in range(16)]\n",
    "for i,file_path in enumerate(file_path_list):\n",
    "    with open(file_path,encoding=\"ANSI\") as f:\n",
    "        text = f.read()[40:]\n",
    "        text = re.sub(r1, '', text)\n",
    "        text = text.replace(\"\\n\", '')\n",
    "        text = text.replace(\"\\u3000\", '')\n",
    "        text = text.replace(\" \", '')\n",
    "        jieba_text = jieba.lcut(text)\n",
    "        for word in jieba_text:\n",
    "            if word not in stopwords and len(word) > 1:\n",
    "                corpus[i].append(word)\n"
   ]
  },
  {
   "cell_type": "code",
   "execution_count": 144,
   "metadata": {},
   "outputs": [],
   "source": [
    "\"\"\"\n",
    "1、抽取段落并打标签\n",
    "\"\"\"\n",
    "num = 1000 // 16\n",
    "words = 500\n",
    "num_topics = 50\n",
    "train = []\n",
    "label = []\n",
    "for i in range(len(corpus)): \n",
    "    stride = len(corpus[i]) // num\n",
    "    for j in range (num):\n",
    "        train.append(corpus[i][stride*j:stride*j + 500])\n",
    "        label.append(i)\n",
    "\n",
    "    "
   ]
  },
  {
   "cell_type": "code",
   "execution_count": 145,
   "metadata": {},
   "outputs": [
    {
     "name": "stdout",
     "output_type": "stream",
     "text": [
      "Trainng LDA model...\n"
     ]
    }
   ],
   "source": [
    "\"\"\"\n",
    "1、LDA模型训练\n",
    "\"\"\"\n",
    "from gensim import corpora, models\n",
    "\n",
    "dictionary = corpora.Dictionary(train)\n",
    "lda_corpus_train = [dictionary.doc2bow(tmp_doc) for tmp_doc in train]\n",
    "print(\"Trainng LDA model...\")\n",
    "lda = models.LdaModel(corpus=lda_corpus_train, id2word=dictionary, num_topics=num_topics)"
   ]
  },
  {
   "cell_type": "code",
   "execution_count": 146,
   "metadata": {},
   "outputs": [
    {
     "name": "stdout",
     "output_type": "stream",
     "text": [
      "Training SVM classifier...\n",
      "Prediction accuracy of training samples is 0.3972.\n",
      "0.33668341708542715\n"
     ]
    }
   ],
   "source": [
    "\"\"\"\n",
    "1、文本分类模型训练与测试\n",
    "\"\"\"\n",
    "import numpy as np\n",
    "from sklearn.svm import SVC\n",
    "from sklearn.model_selection import train_test_split\n",
    "\n",
    "train_topic_distribution = lda.get_document_topics(lda_corpus_train)\n",
    "train_features = np.zeros((len(train), num_topics))\n",
    "for i in range(len(train_topic_distribution)):\n",
    "    tmp_topic_distribution = train_topic_distribution[i]\n",
    "    for j in range(len(tmp_topic_distribution)):\n",
    "        train_features[i][tmp_topic_distribution[j][0]] = tmp_topic_distribution[j][1]\n",
    "\n",
    "\n",
    "\n",
    "train_data, test_data, train_label, test_label = train_test_split(train_features, label, test_size=0.2, shuffle=True)\n",
    "\n",
    "\n",
    "print(\"Training SVM classifier...\")\n",
    "assert len(label) == len(train_features)\n",
    "train_label = np.array(train_label)\n",
    "classifier = SVC(kernel='linear', probability=True)\n",
    "classifier.fit(train_data, train_label)\n",
    "print(\"Prediction accuracy of training samples is {:.4f}.\".format(sum(classifier.predict(train_data) == train_label) / len(train_label)))\n",
    "\n",
    "a = sum(classifier.predict(test_data) == test_label) / len(test_label)\n",
    "print(a)"
   ]
  },
  {
   "cell_type": "code",
   "execution_count": 71,
   "metadata": {},
   "outputs": [
    {
     "data": {
      "text/plain": [
       "(39, 50)"
      ]
     },
     "execution_count": 71,
     "metadata": {},
     "output_type": "execute_result"
    }
   ],
   "source": [
    "\n"
   ]
  }
 ],
 "metadata": {
  "interpreter": {
   "hash": "deaf0d50e6556ef56b32c63a9d8a06a4f2fdafbfc1ae0f87508a63ac66605a8e"
  },
  "kernelspec": {
   "display_name": "Python 3.6.15 ('universal')",
   "language": "python",
   "name": "python3"
  },
  "language_info": {
   "codemirror_mode": {
    "name": "ipython",
    "version": 3
   },
   "file_extension": ".py",
   "mimetype": "text/x-python",
   "name": "python",
   "nbconvert_exporter": "python",
   "pygments_lexer": "ipython3",
   "version": "3.8.8"
  },
  "orig_nbformat": 4
 },
 "nbformat": 4,
 "nbformat_minor": 2
}
